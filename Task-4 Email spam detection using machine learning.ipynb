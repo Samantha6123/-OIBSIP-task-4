{
 "cells": [
  {
   "cell_type": "code",
   "execution_count": 37,
   "id": "92a6c06d",
   "metadata": {
    "scrolled": true
   },
   "outputs": [],
   "source": [
    "# from email import message\n",
    "from random import sample\n",
    "from tabnanny import verbose\n",
    "import pandas as pd # Used for reading the csv data\n",
    "from nltk.corpus import stopwords\n",
    "import string # For punctuation\n",
    "from sklearn.preprocessing import LabelEncoder\n",
    "from sklearn.model_selection import train_test_split\n",
    "import numpy as np\n",
    "from keras.preprocessing.text import Tokenizer\n",
    "from keras.preprocessing import sequence\n",
    "from keras.models import Sequential\n",
    "from keras.utils import pad_sequences\n",
    "from keras_preprocessing.sequence import pad_sequences\n",
    "from keras.layers import LSTM, Activation, Dense, Dropout, Input, Embedding\n",
    "import matplotlib.pyplot as plt\n",
    "import seaborn as sns\n",
    "from sklearn.metrics import confusion_matrix"
   ]
  },
  {
   "cell_type": "markdown",
   "id": "1f05ac79",
   "metadata": {},
   "source": [
    "# Data Preparation"
   ]
  },
  {
   "cell_type": "code",
   "execution_count": 38,
   "id": "5c166438",
   "metadata": {},
   "outputs": [],
   "source": [
    "df = pd.read_csv(\"spam.csv\", encoding = 'latin-1')"
   ]
  },
  {
   "cell_type": "code",
   "execution_count": 39,
   "id": "8cb7433b",
   "metadata": {},
   "outputs": [
    {
     "name": "stdout",
     "output_type": "stream",
     "text": [
      "<class 'pandas.core.frame.DataFrame'>\n",
      "RangeIndex: 5572 entries, 0 to 5571\n",
      "Data columns (total 5 columns):\n",
      " #   Column      Non-Null Count  Dtype \n",
      "---  ------      --------------  ----- \n",
      " 0   v1          5572 non-null   object\n",
      " 1   v2          5572 non-null   object\n",
      " 2   Unnamed: 2  50 non-null     object\n",
      " 3   Unnamed: 3  12 non-null     object\n",
      " 4   Unnamed: 4  6 non-null      object\n",
      "dtypes: object(5)\n",
      "memory usage: 217.8+ KB\n"
     ]
    }
   ],
   "source": [
    "df.info()"
   ]
  },
  {
   "cell_type": "code",
   "execution_count": 40,
   "id": "94e8c3f0",
   "metadata": {},
   "outputs": [],
   "source": [
    "df = df.iloc[:, :2]"
   ]
  },
  {
   "cell_type": "code",
   "execution_count": 41,
   "id": "0ac01613",
   "metadata": {},
   "outputs": [],
   "source": [
    "df.columns = ['target', 'message']"
   ]
  },
  {
   "cell_type": "code",
   "execution_count": 42,
   "id": "0af863ab",
   "metadata": {},
   "outputs": [],
   "source": [
    "encoder=LabelEncoder()\n",
    "df['target']=encoder.fit_transform(df['target'])"
   ]
  },
  {
   "cell_type": "code",
   "execution_count": 43,
   "id": "cebf8f32",
   "metadata": {},
   "outputs": [],
   "source": [
    "df['message_length'] = df.message.apply(len)"
   ]
  },
  {
   "cell_type": "code",
   "execution_count": 44,
   "id": "68705072",
   "metadata": {},
   "outputs": [],
   "source": [
    "stopwords = stopwords.words(\"english\")"
   ]
  },
  {
   "cell_type": "code",
   "execution_count": 45,
   "id": "67a9963e",
   "metadata": {},
   "outputs": [],
   "source": [
    "def data_preparation(message):\n",
    "    messages = df[\"message\"]\n",
    "    punctuations = string.punctuation\n",
    "\n",
    "    words = []\n",
    "    for word in message.split():\n",
    "        word = word.lower()\n",
    "        if word not in stopwords:\n",
    "            chars = []\n",
    "            for char in word:\n",
    "                if char not in punctuations:\n",
    "                    chars.append(char)\n",
    "                else:\n",
    "                    chars.append(\" \")\n",
    "            \n",
    "            new_word = \"\".join(chars)\n",
    "            words.append(new_word) \n",
    "    \n",
    "    new_message = \" \".join(words)\n",
    "    \n",
    "    return new_message"
   ]
  },
  {
   "cell_type": "code",
   "execution_count": 46,
   "id": "0837dff1",
   "metadata": {},
   "outputs": [],
   "source": [
    "df['cleaned_message'] = df.message.apply(data_preparation)"
   ]
  },
  {
   "cell_type": "markdown",
   "id": "ccafee5f",
   "metadata": {},
   "source": [
    "# Modelling"
   ]
  },
  {
   "cell_type": "code",
   "execution_count": 47,
   "id": "b8360866",
   "metadata": {},
   "outputs": [
    {
     "name": "stdout",
     "output_type": "stream",
     "text": [
      "love start attraction i feel need every time around me she first thing comes thoughts i would start day end her she every time dream love every breath name my life happen around her my life named her i would cry her will give happiness take sorrows i ready fight anyone her i love craziest things her love proove anyone girl beautiful lady whole planet i always singing praises her love start making chicken curry end makiing sambar life beautiful then will get every morning thank god day me i would like say lot  will tell later  \n"
     ]
    }
   ],
   "source": [
    "targets = df.target\n",
    "messages = df.cleaned_message\n",
    "print(df.cleaned_message[1084])"
   ]
  },
  {
   "cell_type": "code",
   "execution_count": 48,
   "id": "1802ce51",
   "metadata": {},
   "outputs": [],
   "source": [
    "messages_train, messages_test, targets_train, targets_test = train_test_split(messages, targets, test_size=0.2, random_state=20)"
   ]
  },
  {
   "cell_type": "code",
   "execution_count": 49,
   "id": "1761d02f",
   "metadata": {},
   "outputs": [],
   "source": [
    "mx = len(max(messages, key=len))"
   ]
  },
  {
   "cell_type": "code",
   "execution_count": 50,
   "id": "99ce821f",
   "metadata": {},
   "outputs": [],
   "source": [
    "num_words = 50000 \n",
    "max_len = 91"
   ]
  },
  {
   "cell_type": "code",
   "execution_count": 51,
   "id": "27892a8e",
   "metadata": {},
   "outputs": [],
   "source": [
    "tokenizer = Tokenizer(num_words = num_words) \n",
    "tokenizer.fit_on_texts(messages_train)"
   ]
  },
  {
   "cell_type": "code",
   "execution_count": 57,
   "id": "31e61725",
   "metadata": {
    "scrolled": true
   },
   "outputs": [
    {
     "name": "stdout",
     "output_type": "stream",
     "text": [
      "79\n"
     ]
    }
   ],
   "source": [
    "from keras_preprocessing.sequence import pad_sequences\n",
    "from keras_preprocessing import sequence\n",
    "messages_train_features = tokenizer.texts_to_sequences(messages_train) # Updates internal vocabulary based on a list of sequences.\n",
    "print(len(max(messages_train_features, key=len)))\n",
    "messages_train_features = sequence.pad_sequences(messages_train_features, maxlen = max_len)"
   ]
  },
  {
   "cell_type": "code",
   "execution_count": 58,
   "id": "6699cfd6",
   "metadata": {},
   "outputs": [
    {
     "name": "stdout",
     "output_type": "stream",
     "text": [
      "91\n"
     ]
    }
   ],
   "source": [
    "messages_test_features = tokenizer.texts_to_sequences(messages_test)\n",
    "print(len(max(messages_test_features, key=len))) #91\n",
    "messages_test_features = sequence.pad_sequences(messages_test_features, maxlen = max_len)"
   ]
  },
  {
   "cell_type": "code",
   "execution_count": 59,
   "id": "be89a5dd",
   "metadata": {},
   "outputs": [
    {
     "name": "stdout",
     "output_type": "stream",
     "text": [
      "4457 91\n",
      "1115 91\n"
     ]
    }
   ],
   "source": [
    "print(len(messages_train_features), len(messages_train_features[0]))\n",
    "print(len(messages_test_features), len(messages_test_features[0]))"
   ]
  },
  {
   "cell_type": "code",
   "execution_count": 60,
   "id": "51e630f1",
   "metadata": {},
   "outputs": [],
   "source": [
    "model = Sequential()"
   ]
  },
  {
   "cell_type": "code",
   "execution_count": 61,
   "id": "de87cf88",
   "metadata": {},
   "outputs": [],
   "source": [
    "model.add(Embedding(num_words, 32, input_length=max_len))"
   ]
  },
  {
   "cell_type": "code",
   "execution_count": 62,
   "id": "54d0d41c",
   "metadata": {},
   "outputs": [],
   "source": [
    "model.add(LSTM(64))"
   ]
  },
  {
   "cell_type": "code",
   "execution_count": 63,
   "id": "31c4be5f",
   "metadata": {},
   "outputs": [],
   "source": [
    "model.add(Dense(16 ,activation='relu'))\n",
    "model.add(Dropout(0.1))\n",
    "model.add(Dense(1,activation='sigmoid'))"
   ]
  },
  {
   "cell_type": "code",
   "execution_count": 64,
   "id": "52c51b11",
   "metadata": {},
   "outputs": [],
   "source": [
    "model.compile(optimizer='adam', loss='binary_crossentropy',metrics=[\"accuracy\"])"
   ]
  },
  {
   "cell_type": "code",
   "execution_count": 65,
   "id": "b07b68b9",
   "metadata": {},
   "outputs": [
    {
     "name": "stdout",
     "output_type": "stream",
     "text": [
      "Model: \"sequential\"\n",
      "_________________________________________________________________\n",
      " Layer (type)                Output Shape              Param #   \n",
      "=================================================================\n",
      " embedding (Embedding)       (None, 91, 32)            1600000   \n",
      "                                                                 \n",
      " lstm (LSTM)                 (None, 64)                24832     \n",
      "                                                                 \n",
      " dense (Dense)               (None, 16)                1040      \n",
      "                                                                 \n",
      " dropout (Dropout)           (None, 16)                0         \n",
      "                                                                 \n",
      " dense_1 (Dense)             (None, 1)                 17        \n",
      "                                                                 \n",
      "=================================================================\n",
      "Total params: 1,625,889\n",
      "Trainable params: 1,625,889\n",
      "Non-trainable params: 0\n",
      "_________________________________________________________________\n",
      "None\n"
     ]
    }
   ],
   "source": [
    "print(model.summary())"
   ]
  },
  {
   "cell_type": "markdown",
   "id": "13277645",
   "metadata": {},
   "source": [
    "# Training"
   ]
  },
  {
   "cell_type": "code",
   "execution_count": 66,
   "id": "ac3a1b24",
   "metadata": {},
   "outputs": [
    {
     "name": "stdout",
     "output_type": "stream",
     "text": [
      "Epoch 1/20\n",
      "30/30 [==============================] - 12s 206ms/step - loss: 0.5148 - accuracy: 0.8405 - val_loss: 0.3738 - val_accuracy: 0.8673\n",
      "Epoch 2/20\n",
      "30/30 [==============================] - 5s 163ms/step - loss: 0.3222 - accuracy: 0.8728 - val_loss: 0.1791 - val_accuracy: 0.9283\n",
      "Epoch 3/20\n",
      "30/30 [==============================] - 5s 179ms/step - loss: 0.1077 - accuracy: 0.9735 - val_loss: 0.0523 - val_accuracy: 0.9865\n",
      "Epoch 4/20\n",
      "30/30 [==============================] - 5s 160ms/step - loss: 0.0389 - accuracy: 0.9895 - val_loss: 0.0328 - val_accuracy: 0.9928\n",
      "Epoch 5/20\n",
      "30/30 [==============================] - 5s 180ms/step - loss: 0.0180 - accuracy: 0.9966 - val_loss: 0.0324 - val_accuracy: 0.9919\n",
      "Epoch 6/20\n",
      "30/30 [==============================] - 5s 179ms/step - loss: 0.0107 - accuracy: 0.9982 - val_loss: 0.0388 - val_accuracy: 0.9901\n",
      "Epoch 7/20\n",
      "30/30 [==============================] - 5s 162ms/step - loss: 0.0073 - accuracy: 0.9989 - val_loss: 0.0353 - val_accuracy: 0.9928\n",
      "Epoch 8/20\n",
      "30/30 [==============================] - 5s 163ms/step - loss: 0.0049 - accuracy: 0.9991 - val_loss: 0.0454 - val_accuracy: 0.9919\n",
      "Epoch 9/20\n",
      "30/30 [==============================] - 5s 163ms/step - loss: 0.0036 - accuracy: 0.9993 - val_loss: 0.0468 - val_accuracy: 0.9919\n",
      "Epoch 10/20\n",
      "30/30 [==============================] - 5s 172ms/step - loss: 0.0022 - accuracy: 0.9996 - val_loss: 0.0586 - val_accuracy: 0.9892\n",
      "Epoch 11/20\n",
      "30/30 [==============================] - 5s 164ms/step - loss: 0.0030 - accuracy: 0.9996 - val_loss: 0.0622 - val_accuracy: 0.9892\n",
      "Epoch 12/20\n",
      "30/30 [==============================] - 5s 168ms/step - loss: 0.0019 - accuracy: 0.9996 - val_loss: 0.0478 - val_accuracy: 0.9919\n",
      "Epoch 13/20\n",
      "30/30 [==============================] - 5s 163ms/step - loss: 0.0014 - accuracy: 0.9998 - val_loss: 0.0526 - val_accuracy: 0.9919\n",
      "Epoch 14/20\n",
      "30/30 [==============================] - 5s 164ms/step - loss: 5.8168e-04 - accuracy: 1.0000 - val_loss: 0.0653 - val_accuracy: 0.9901\n",
      "Epoch 15/20\n",
      "30/30 [==============================] - 5s 167ms/step - loss: 6.2754e-04 - accuracy: 1.0000 - val_loss: 0.0646 - val_accuracy: 0.9910\n",
      "Epoch 16/20\n",
      "30/30 [==============================] - 5s 167ms/step - loss: 5.7059e-04 - accuracy: 1.0000 - val_loss: 0.0640 - val_accuracy: 0.9919\n",
      "Epoch 17/20\n",
      "30/30 [==============================] - 5s 176ms/step - loss: 3.6545e-04 - accuracy: 1.0000 - val_loss: 0.0701 - val_accuracy: 0.9910\n",
      "Epoch 18/20\n",
      "30/30 [==============================] - 5s 162ms/step - loss: 2.3892e-04 - accuracy: 1.0000 - val_loss: 0.0740 - val_accuracy: 0.9892\n",
      "Epoch 19/20\n",
      "30/30 [==============================] - 5s 165ms/step - loss: 2.3108e-04 - accuracy: 1.0000 - val_loss: 0.0705 - val_accuracy: 0.9919\n",
      "Epoch 20/20\n",
      "30/30 [==============================] - 5s 174ms/step - loss: 2.4159e-04 - accuracy: 1.0000 - val_loss: 0.0748 - val_accuracy: 0.9910\n"
     ]
    }
   ],
   "source": [
    "history=model.fit(messages_train_features,targets_train,batch_size=150,epochs=20, validation_data=(messages_test_features, targets_test))"
   ]
  },
  {
   "cell_type": "markdown",
   "id": "ab90ab5d",
   "metadata": {},
   "source": [
    "# Evaluation"
   ]
  },
  {
   "cell_type": "code",
   "execution_count": 67,
   "id": "8f2b3843",
   "metadata": {},
   "outputs": [
    {
     "data": {
      "image/png": "[encoded data removed]",
      "text/plain": [
       "<Figure size 640x480 with 1 Axes>"
      ]
     },
     "metadata": {},
     "output_type": "display_data"
    }
   ],
   "source": [
    "plt.plot(history.history[\"accuracy\"], \"--\")\n",
    "plt.plot(history.history[\"val_accuracy\"])\n",
    "plt.title(\"Model Accuracy\")\n",
    "plt.ylabel(\"Accuracy\")\n",
    "plt.xlabel(\"epoch\")\n",
    "plt.legend([\"train\", \"test\"], loc=\"upper left\")\n",
    "plt.show()"
   ]
  },
  {
   "cell_type": "code",
   "execution_count": 68,
   "id": "a329d57f",
   "metadata": {},
   "outputs": [
    {
     "data": {
      "image/png": "[encoded data removed]",
      "text/plain": [
       "<Figure size 640x480 with 1 Axes>"
      ]
     },
     "metadata": {},
     "output_type": "display_data"
    }
   ],
   "source": [
    "plt.plot(history.history[\"loss\"], \"--\")\n",
    "plt.plot(history.history[\"val_loss\"])\n",
    "plt.title(\"Model Hatası\")\n",
    "plt.ylabel(\"Hata\")\n",
    "plt.xlabel(\"epoch\")\n",
    "plt.legend([\"train\", \"test\"], loc=\"upper left\")\n",
    "plt.show()"
   ]
  },
  {
   "cell_type": "code",
   "execution_count": 69,
   "id": "a18ffbcb",
   "metadata": {},
   "outputs": [
    {
     "name": "stdout",
     "output_type": "stream",
     "text": [
      "35/35 [==============================] - 1s 23ms/step - loss: 0.0748 - accuracy: 0.9910\n",
      "Accuracy: 99.103\n"
     ]
    }
   ],
   "source": [
    "accuracy = model.evaluate(messages_test_features,targets_test)\n",
    "print('Accuracy: {:0.3f}'.format(accuracy[1]*100))"
   ]
  },
  {
   "cell_type": "code",
   "execution_count": 70,
   "id": "d40a6b5a",
   "metadata": {},
   "outputs": [
    {
     "name": "stdout",
     "output_type": "stream",
     "text": [
      "35/35 [==============================] - 2s 22ms/step\n",
      "[[966   1]\n",
      " [  9 139]]\n"
     ]
    }
   ],
   "source": [
    "y_predict  = [1 if o>0.5 else 0 for o in model.predict(messages_test_features)]\n",
    "cf_matrix =confusion_matrix(targets_test,y_predict)\n",
    "print(cf_matrix)"
   ]
  },
  {
   "cell_type": "code",
   "execution_count": 84,
   "id": "2368402d",
   "metadata": {},
   "outputs": [
    {
     "data": {
      "image/png": "[encoded data removed]",
      "text/plain": [
       "<Figure size 640x480 with 2 Axes>"
      ]
     },
     "metadata": {},
     "output_type": "display_data"
    }
   ],
   "source": [
    "ax = sns.heatmap(cf_matrix, annot=True, cmap='Blues')\n",
    "ax.set_title('Confusion Matrix\\n\\n');\n",
    "ax.set_xlabel('\\nPredicted Values')\n",
    "ax.set_ylabel('Actual Values ');\n",
    "ax.xaxis.set_ticklabels(['Not Spam','Spam'])\n",
    "ax.yaxis.set_ticklabels(['Not Spam','Spam'])\n",
    "plt.show()"
   ]
  }
 ],
 "metadata": {
  "kernelspec": {
   "display_name": "Python 3 (ipykernel)",
   "language": "python",
   "name": "python3"
  },
  "language_info": {
   "codemirror_mode": {
    "name": "ipython",
    "version": 3
   },
   "file_extension": ".py",
   "mimetype": "text/x-python",
   "name": "python",
   "nbconvert_exporter": "python",
   "pygments_lexer": "ipython3",
   "version": "3.10.7"
  }
 },
 "nbformat": 4,
 "nbformat_minor": 5
}
